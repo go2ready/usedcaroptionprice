{
 "cells": [
  {
   "cell_type": "code",
   "execution_count": 1,
   "id": "363445f8",
   "metadata": {},
   "outputs": [
    {
     "name": "stdout",
     "output_type": "stream",
     "text": [
      "[LightGBM] [Info] Using column number 0 as label\n",
      "[LightGBM] [Info] Construct bin mappers from text data time 0.00 seconds\n"
     ]
    }
   ],
   "source": [
    "import numpy as np\n",
    "import lightgbm as lgb\n",
    "\n",
    "param = { 'label_column': 0, 'header': True }\n",
    "train_data = lgb.Dataset(data=\"./data.csv\", params=param).construct()"
   ]
  },
  {
   "cell_type": "code",
   "execution_count": 2,
   "id": "cec61c20",
   "metadata": {},
   "outputs": [
    {
     "data": {
      "text/plain": [
       "['mileage',\n",
       " 'engine',\n",
       " 'auto',\n",
       " 'colour',\n",
       " 'year',\n",
       " 'chrono',\n",
       " '20in',\n",
       " 'bluetooth',\n",
       " 'parkassist',\n",
       " 'heatedseat',\n",
       " 'efold',\n",
       " 'bose',\n",
       " 'pse',\n",
       " 'sd',\n",
       " 'redleather',\n",
       " 'cc',\n",
       " 'nav',\n",
       " 'crest',\n",
       " 'alarm',\n",
       " 'wd',\n",
       " 'tpm']"
      ]
     },
     "execution_count": 2,
     "metadata": {},
     "output_type": "execute_result"
    }
   ],
   "source": [
    "train_data.get_feature_name()"
   ]
  },
  {
   "cell_type": "code",
   "execution_count": 5,
   "id": "2f380335",
   "metadata": {},
   "outputs": [
    {
     "name": "stdout",
     "output_type": "stream",
     "text": [
      "[LightGBM] [Warning] Auto-choosing row-wise multi-threading, the overhead of testing was 0.000396 seconds.\n",
      "You can set `force_row_wise=true` to remove the overhead.\n",
      "And if memory is not enough, you can set `force_col_wise=true`.\n",
      "[LightGBM] [Info] Total Bins 93\n",
      "[LightGBM] [Info] Number of data points in the train set: 146, number of used features: 18\n",
      "[LightGBM] [Info] Start training from score 35282.164384\n",
      "[LightGBM] [Warning] No further splits with positive gain, best gain: -inf\n",
      "[LightGBM] [Warning] No further splits with positive gain, best gain: -inf\n",
      "[LightGBM] [Warning] No further splits with positive gain, best gain: -inf\n",
      "[LightGBM] [Warning] No further splits with positive gain, best gain: -inf\n"
     ]
    }
   ],
   "source": [
    "num_round = 10\n",
    "training_param = {'num_leaves': 6, 'objective': 'regression'}\n",
    "bst = lgb.train(training_param, train_data, num_round)"
   ]
  },
  {
   "cell_type": "code",
   "execution_count": 7,
   "id": "208724b9",
   "metadata": {},
   "outputs": [
    {
     "data": {
      "text/plain": [
       "array([28856.92185359])"
      ]
     },
     "execution_count": 7,
     "metadata": {},
     "output_type": "execute_result"
    }
   ],
   "source": [
    "bst.predict([[90000,2.7,1,0,2014,0,0,0,0,0,0,0,0,0,0,0,0,0,0,0,0]])"
   ]
  },
  {
   "cell_type": "code",
   "execution_count": 8,
   "id": "66af6cc2",
   "metadata": {},
   "outputs": [
    {
     "data": {
      "text/plain": [
       "array([34661.81013342])"
      ]
     },
     "execution_count": 8,
     "metadata": {},
     "output_type": "execute_result"
    }
   ],
   "source": [
    "bst.predict([[30000,3.4,1,0,2014,0,0,0,0,0,0,0,0,0,0,0,0,0,0,0,0]])"
   ]
  },
  {
   "cell_type": "code",
   "execution_count": null,
   "id": "866ca9e0",
   "metadata": {},
   "outputs": [],
   "source": []
  }
 ],
 "metadata": {
  "kernelspec": {
   "display_name": "Python 3 (ipykernel)",
   "language": "python",
   "name": "python3"
  },
  "language_info": {
   "codemirror_mode": {
    "name": "ipython",
    "version": 3
   },
   "file_extension": ".py",
   "mimetype": "text/x-python",
   "name": "python",
   "nbconvert_exporter": "python",
   "pygments_lexer": "ipython3",
   "version": "3.9.13"
  }
 },
 "nbformat": 4,
 "nbformat_minor": 5
}
